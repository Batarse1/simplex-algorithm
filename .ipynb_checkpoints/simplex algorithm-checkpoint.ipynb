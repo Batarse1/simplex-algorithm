{
 "cells": [
  {
   "cell_type": "markdown",
   "id": "0dfceb61",
   "metadata": {},
   "source": [
    "# Programación lineal, algoritmo símplex"
   ]
  },
  {
   "cell_type": "markdown",
   "id": "45f9fe53",
   "metadata": {},
   "source": [
    "## Introducción"
   ]
  },
  {
   "cell_type": "markdown",
   "id": "6de8d421",
   "metadata": {},
   "source": [
    "## Resultados teóricos del algoritmo simplex"
   ]
  },
  {
   "cell_type": "markdown",
   "id": "c8756478",
   "metadata": {},
   "source": [
    "### Utilidad\n",
    "El algoritmo simplex es el método clásico para resolver programas lineales."
   ]
  },
  {
   "cell_type": "markdown",
   "id": "4e851efb",
   "metadata": {},
   "source": [
    "### Funcionamiento"
   ]
  },
  {
   "cell_type": "markdown",
   "id": "887302e2",
   "metadata": {},
   "source": [
    "#### Prerequisitos\n",
    "* Todos las variables incluidas en las inecuaciones deben de ser positivas.\n",
    "*\n",
    "*"
   ]
  },
  {
   "cell_type": "markdown",
   "id": "6b7944c0",
   "metadata": {},
   "source": [
    "### Convertir \"linear program\" a \"slack form\"\n",
    "Para resolver eficientemente un programa lineal con el algoritmo simplex, vamos a expresarlo de manera que, algunas de las inecuaciones sean igualdades, más concretamente, lo convertiremos de una forma, en la cual las ecuaciones no negativas, sean las unicas inecuaciones."
   ]
  },
  {
   "cell_type": "markdown",
   "id": "2af31482",
   "metadata": {},
   "source": [
    "### Ejemplo teórico\n",
    "Considere el siguiente programa lineal en forma estándar\n",
    "\n",
    "\\begin{array}{l}\n",
    "\\text { maximizar: } \\\\\n",
    "\\quad3 x_{1}+x_{2}+2 x_{3}\\\\\n",
    "\\text { Condiciones : }\\\\\n",
    "\\quad x_{1}+x_{2}+3 x_{3} \\leq 30 \\\\\n",
    "\\quad 2 x_{1}+2 x_{2}+5 x_{3} \\leq 24 \\\\\n",
    "\\quad 4 x_{1}+x_{2}+2 x_{3} \\leq 36 \\\\\n",
    "\\quad x_{1}, x_{2}, x_{3} \\geq 0\n",
    "\\end{array}\n",
    "\n",
    "1. Para utilizar el algoritmo simplex, debemos convertir el programa lineal a forma floja (slack form)\n",
    "\n",
    "\\begin{array}{l}\n",
    "z= 3 x_{1}+x_{2}+2 x_{3} \\\\\n",
    "x_{4}=30-x_{1}-x_{2}-3 x_{3} \\\\\n",
    "x_{5}=24-2 x_{1}-2 x_{2}-5 x_{3} \\\\\n",
    "x_{6}=36-4 x_{1}-x_{2}-2 x_{3} \\\\\n",
    "x_{1}, x_{2}, x_{3} \\geq 0\n",
    "\\end{array}\n",
    "\n",
    "El valor de las variables $x_{1}$, $x_{2}$, y $x_{3}$ define valores para $x_{4}$, $x_{5}$ y $x_{6}$; por lo tanto, tenemos un número infinito de soluciones para este sistema de ecuaciones. Una solucion es factible si todas las variables ($x_{1}$, $x_{2}$, ... , $x_{6}$) no son negativas.\n",
    "\n",
    "2. Nos enfocamos en la solución básica: establecemos todas las variables (no básicas) en el lado derecho en 0 y luego calculamos los valores de las variables (básicas) en el lado izquierdo. Dejando los siguientes valores para estas ecuaciones:\n",
    "\n",
    "\\begin{array}{l}\n",
    "z= 0 \\\\\n",
    "x_{4}=30 \\\\\n",
    "x_{5}=24 \\\\\n",
    "x_{6}=36 \\\\\n",
    "\\end{array}\n",
    "\n",
    "observamos que los valores ($\\bar{x_{1}}, \\bar{x_{2}},...,\\bar{x_{6}}$) = (0,0,0,30,24,36) y tiene un valor objetivo de $z=(3·0)+(1·0)+(2·0)=0$\n",
    "\n",
    "Observe que la solución básica propone $\\bar{x_{i}}=b_{i}$ por cada $i \\in B$, por cada iteración del algoritmo simplex, se reescriben las ecuaciones y el objetivo de la función, es de poner variables distintas a la derecha y así, cambiamos la solución básica que es asociada con el problema reescrito (cabe destacar que esto no cambia en ninguna forma el problema original).\n",
    "\n",
    "Si una solución básica es factible, la llamaremos $\\textbf{solución básica factible}$, lo que es normalmente el caso, aunque habrán algunas ocasiones, en la que la solución básica no es factible\n",
    "\n",
    "3. Para cambiar la solución básica, seleccionamos una variable no básica $x_{e}$ cuyo coeficiente en la función objetivo es positiva, y lo incrementamos tanto las ecuaciones permitan, posteriormente, la variable $x_{e}$ pasa a ser una variable básica y otra variable tipo $x_{l}$ deja de ser básica, así que aplicaremos esa lógica a nuestro ejemplo, utilizaremos $x_{1}$ para empezar.\n",
    "\n",
    "A medida que incrementamos $x_{1}$ los valores de $x_{4}, x_{5}, x_{6}$ decrecen, no podemos permitir que estas variables se conviertan en negativas, por lo que progamos que valor máximo puede tomar $x_{1}$ en las siguientes ecuaciones (asumiendo que $x_{2} y x_{3}$ sean 0 por las reglas establecidas anteriormente):\n",
    "\n",
    "\\begin{array}{l}\n",
    "x_{4}=30-x_{1} \\\\\n",
    "x_{5}=24-2 x_{1} \\\\\n",
    "x_{6}=36-4 x_{1} \\\\\n",
    "\\end{array}\n",
    "\n",
    "Podemos observar, que en $x_{4}$ el valor de $x_{1}$ no puede ser mayor a 30, así como en $x_{5}$ y en $x_{6}$ el valor de $x_{1}$ no puede ser mayor a 12 y 9 respectivamente, por lo que nos decantamos por el mayor valor que no contradiga ninguna de las reglas anteriormente establecidas, el cuál sería 9, por lo que en la tercera ecuación, cambiamos los roles de $x_{1}$ y $x_{6}$ y resolvemos la ecuación para $x_{1}$, para obtener:\n",
    "\\begin{array}{l}\n",
    "x_{1}=9-\\frac{x_{2}}{4}-\\frac{x_{3}}{2}-\\frac{x_{6}}{4} \\\\\n",
    "\\end{array}\n",
    "\n",
    "Para reescribir las otras ecuaciones con $x_{6}$ a la derecha, simplemente sustituimos $x_{1}$ con la ecuación obtenida anteriormente y desarrollamos, lo que nos deja con las siguientes ecuaciones:\n",
    "\n",
    "\\begin{array}{l}\n",
    "z= 27+ \\frac{x_{2}}{4} + \\frac{x_{3}}{2} - \\frac{3 x_{6}}{4}\\\\\n",
    "x_{1}= 9 -  \\frac{x_{2}}{4} - \\frac{x_{3}}{2} - \\frac{x_{6}}{4} \\\\\n",
    "x_{4}= 21 - \\frac{3x_{2}}{4} - \\frac{5x_{3}}{2} + \\frac{x_{6}}{4} \\\\\n",
    "x_{5}= 6 -  \\frac{3x_{2}}{2} - 4x_{3} + \\frac{x_{6}}{2}\\\\\n",
    "\\end{array}\n",
    "\n",
    "A este proceso que acabamos de hacer le llamamos $\\textbf{pivote}$ a donde $x_{1}$ es la variable entrante y $x_{6}$ es la variable saliente\n",
    "\n",
    "4. Una vez hemos realizado nuestro primer $\\textbf{pivote}$, tenemos que utilizar las otras 2 variables restantes para pivotar, primero escogeremos $x_{3}$, luego $x_{2}$, por lo que aplicamos el paso 3.\n",
    "\n",
    "\\begin{array}{l}\n",
    "x_{1}= 9  - \\frac{x_{3}}{2} \\\\\n",
    "x_{4}= 21 - \\frac{5x_{3}}{2} \\\\\n",
    "x_{5}= 6 - 4x_{3}\\\\\n",
    "\\end{array}\n",
    "\n",
    "Resolver estas ecuaciones nos da un valor de 18 en $x_{1}$, 42/5 en $x_{4}$ y 3/2 en $x_{5}$. Por lo que sustituimos $x_{3}$ por $x_{5}$ en la tercera ecuación, lo que nos da:\n",
    "\n",
    "$x_{3} = \\frac{3}{2} - \\frac{3 x_{2}}{8} - \\frac{x_{5}}{4} + \\frac{x_{6}}{8}$\n",
    "\n",
    "Sustituimos en el sistema de ecuaciones:\n",
    "\n",
    "\\begin{array}{l}\n",
    "z= \\frac{111}{4} + \\frac{x_{2}}{16} - \\frac{x_{5}}{8} - \\frac{11x_{6}}{16}\\\\\n",
    "x_{1}= \\frac{33}{4} - \\frac{x_{2}}{16} + \\frac{x_{5}}{8} - \\frac{5x_{6}}{16}\\\\\n",
    "x_{3}= \\frac{3}{2} - \\frac{3x_{2}}{8} - \\frac{x_{5}}{4} + \\frac{x_{6}}{8}\\\\\n",
    "x_{4}= \\frac{69}{4} + \\frac{3x_{2}}{16} + \\frac{x_{5}}{8} - \\frac{x_{6}}{16}\\\\\n",
    "\\end{array}\n",
    "\n",
    "este sistema tiene la solución básica de (33/4,0,3/2,69/4,0,0), con un valor objetivo de 111/4, ahora, la única manera de aumentar el valor objetivo es de aumentar $x_{2}$. las 3 ecuaciones dan valores máximos de 132, 4 y $\\infty$ respectivamente (obtuvimos un valor de infinito, debido a que a medida aumenta $x_{2}$, el valor de $x_{4}$ también aumenta, lo que significa que no hay valor que cumpla la restricción de cuanto podemos aumentar $x_{2}$.) Aumentamos el valor de $x_{2}$ a 4. Sustituimos en las ecuaciones...\n",
    "\n",
    "\\begin{array}{l}\n",
    "z= 28 - \\frac{x_{3}}{6} - \\frac{x_{5}}{6} - \\frac{2 x_{6}}{3}\\\\\n",
    "x_{1}= 8 +  \\frac{x_{3}}{6} + \\frac{x_{5}}{6} - \\frac{x_{6}}{3} \\\\\n",
    "x_{2}= 4 - \\frac{8x_{3}}{3} - \\frac{2x_{5}}{3} + \\frac{x_{6}}{3} \\\\\n",
    "x_{4}= 18 -  \\frac{x_{3}}{2} + \\frac{x_{5}}{2}\\\\\n",
    "\\end{array}\n",
    "\n",
    "En este punto, todos los coeficientes de la función objetiva son negativos, esta situación solo ocurre cuando hemos reescrito el programa lineal de tal forma que la solución básica es la solución más optimo.\n",
    "\n",
    "5. Ya que sabemos que la función objetiva es produce una solución básica óptima, con la solución (8,4,0,18,0,0) con el valor objetivo de 28, que se obtiene haciendo el reemplazo en el programa lineal original, utilizando las variables que aparecían en este programa lineal original.\n",
    "\n",
    "$z = 3 x_{1}+x_{2}+2 x_{3}$\n",
    "\n",
    "$z = (3·8)+(1·4)+(2·0)$\n",
    "\n",
    "$z = 28$\n",
    "\n",
    "Lo cuál es nuestra respuesta final"
   ]
  },
  {
   "cell_type": "markdown",
   "id": "1701e7e2",
   "metadata": {},
   "source": [
    "## Experimentos numéricos hechos en Python del algoritmo simplex."
   ]
  },
  {
   "cell_type": "markdown",
   "id": "1b19f4df",
   "metadata": {},
   "source": [
    "## Conclusión"
   ]
  },
  {
   "cell_type": "code",
   "execution_count": null,
   "id": "ed7bda2b",
   "metadata": {},
   "outputs": [],
   "source": []
  }
 ],
 "metadata": {
  "kernelspec": {
   "display_name": "Python 3",
   "language": "python",
   "name": "python3"
  },
  "language_info": {
   "codemirror_mode": {
    "name": "ipython",
    "version": 3
   },
   "file_extension": ".py",
   "mimetype": "text/x-python",
   "name": "python",
   "nbconvert_exporter": "python",
   "pygments_lexer": "ipython3",
   "version": "3.9.6"
  }
 },
 "nbformat": 4,
 "nbformat_minor": 5
}
