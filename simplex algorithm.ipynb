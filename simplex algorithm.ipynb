{
 "cells": [
  {
   "cell_type": "markdown",
   "id": "0dfceb61",
   "metadata": {},
   "source": [
    "# Programación lineal, algoritmo símplex"
   ]
  },
  {
   "cell_type": "markdown",
   "id": "45f9fe53",
   "metadata": {},
   "source": [
    "## Introducción"
   ]
  },
  {
   "cell_type": "markdown",
   "id": "6de8d421",
   "metadata": {},
   "source": [
    "## Resultados teóricos del algoritmo simplex"
   ]
  },
  {
   "cell_type": "markdown",
   "id": "c8756478",
   "metadata": {},
   "source": [
    "### Utilidad\n",
    "El algoritmo simplex es el método clásico para resolver programas lineales."
   ]
  },
  {
   "cell_type": "markdown",
   "id": "4e851efb",
   "metadata": {},
   "source": [
    "### Funcionamiento"
   ]
  },
  {
   "cell_type": "markdown",
   "id": "887302e2",
   "metadata": {},
   "source": [
    "#### Prerequisitos\n",
    "* Todos las variables incluidas en las inecuaciones deben de ser positivas.\n",
    "*\n",
    "*"
   ]
  },
  {
   "cell_type": "markdown",
   "id": "6b7944c0",
   "metadata": {},
   "source": [
    "### Convertir \"linear program\" a \"slack form\"\n",
    "Para resolver eficientemente un programa lineal con el algoritmo simplex, vamos a expresarlo de manera que, algunas de las inecuaciones sean igualdades, más concretamente, lo convertiremos de una forma, en la cual las ecuaciones no negativas, sean las unicas inecuaciones."
   ]
  },
  {
   "cell_type": "markdown",
   "id": "2af31482",
   "metadata": {},
   "source": [
    "### Ejemplo teórico\n",
    "Considere el siguiente programa lineal en forma estándar\n",
    "\n",
    "\\begin{array}{l}\n",
    "\\text { maximizar: } \\\\\n",
    "\\quad3 x_{1}+x_{2}+2 x_{3}\\\\\n",
    "\\text { Condiciones : }\\\\\n",
    "\\quad x_{1}+x_{2}+3 x_{3} \\leq 30 \\\\\n",
    "\\quad 2 x_{1}+2 x_{2}+5 x_{3} \\leq 24 \\\\\n",
    "\\quad 4 x_{1}+x_{2}+2 x_{3} \\leq 36 \\\\\n",
    "\\quad x_{1}, x_{2}, x_{3} \\geq 0\n",
    "\\end{array}\n",
    "\n",
    "1. Para utilizar el algoritmo simplex, debemos convertir el programa lineal a forma floja (slack form)\n",
    "\n",
    "\\begin{array}{l}\n",
    "z= 3 x_{1}+x_{2}+2 x_{3} \\\\\n",
    "x{4}=30-x_{1}-x_{2}-3 x_{3} \\\\\n",
    "x{5}=24-2 x_{1}-2 x_{2}-5 x_{3} \\\\\n",
    "x{6}=36-4 x_{1}-x_{2}-2 x_{3} \\\\\n",
    "x_{1}, x_{2}, x_{3} \\geq 0\n",
    "\\end{array}\n",
    "\n",
    "El valor de las variables $x_{1}$, $x_{2}$, y $x_{3}$ define valores para $x_{4}$, $x_{5}$ y $x_{6}$; por lo tanto, tenemos un número infinito de soluciones para este sistema de ecuaciones. Una solucion es factible si todas las variables ($x_{1}$, $x_{2}$, ... , $x_{6}$) no son negativas.\n",
    "\n",
    "2. Nos enfocamos en la solución básica: establecemos todas las variables (no básicas) en el lado derecho en 0 y luego calculamos los valores de las variables (básicas) en el lado izquierdo."
   ]
  },
  {
   "cell_type": "markdown",
   "id": "1701e7e2",
   "metadata": {},
   "source": [
    "## Experimentos numéricos hechos en Python del algoritmo simplex."
   ]
  },
  {
   "cell_type": "markdown",
   "id": "1b19f4df",
   "metadata": {},
   "source": [
    "## Conclusión"
   ]
  },
  {
   "cell_type": "code",
   "execution_count": null,
   "id": "ed7bda2b",
   "metadata": {},
   "outputs": [],
   "source": []
  }
 ],
 "metadata": {
  "kernelspec": {
   "display_name": "Python 3",
   "language": "python",
   "name": "python3"
  },
  "language_info": {
   "codemirror_mode": {
    "name": "ipython",
    "version": 3
   },
   "file_extension": ".py",
   "mimetype": "text/x-python",
   "name": "python",
   "nbconvert_exporter": "python",
   "pygments_lexer": "ipython3",
   "version": "3.9.5"
  }
 },
 "nbformat": 4,
 "nbformat_minor": 5
}
