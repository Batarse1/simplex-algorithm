{
 "cells": [
  {
   "cell_type": "markdown",
   "id": "0dfceb61",
   "metadata": {},
   "source": [
    "# Programación lineal, algoritmo símplex"
   ]
  },
  {
   "cell_type": "markdown",
   "id": "45f9fe53",
   "metadata": {},
   "source": [
    "## Introducción\n",
    "El método de programación lineal ha sido un método sumamente utilizado para matemática avanzada y ciencias avanzadas,\n",
    "brindando solución a problemas de máximos y mínmos, ya que este algoritmo nos presenta distintos métodos de solución, \n",
    "siendo el más utilizado el método simplex, pues nos ayuda a encontrar la solución de forma rápida y acertada, por tanto en este documento\n",
    "demostraremos de forma detallada la realización del mismo, como se implementa, las funcionalidades que este puede presentar, y un ejemplo de como utilizarlo."
   ]
  },
  {
   "cell_type": "markdown",
   "id": "6de8d421",
   "metadata": {},
   "source": [
    "## Resultados teóricos del algoritmo simplex"
   ]
  },
  {
   "cell_type": "markdown",
   "id": "c8756478",
   "metadata": {},
   "source": [
    "### Utilidad\n",
    "El algoritmo simplex es el método clásico para resolver programas lineales."
   ]
  },
  {
   "cell_type": "markdown",
   "id": "887302e2",
   "metadata": {},
   "source": [
    "### Funcionamiento\n",
    "\n",
    "#### Prerequisitos\n",
    "* El problema tiene que introducirse en la forma esándar para que el programa funcione"
   ]
  },
  {
   "cell_type": "markdown",
   "id": "4e851efb",
   "metadata": {},
   "source": [
    "#### Pasos\n",
    "1. Para utilizar el algoritmo simplex, debemos convertir el programa lineal a forma floja (slack form)\n",
    "2. Nos enfocamos en la solución básica: establecemos todas las variables (no básicas) en el lado derecho en 0 y luego calculamos los valores de las variables (básicas) en el lado izquierdo\n",
    "3. Para cambiar la solución básica, seleccionamos una variable no básica $x_{e}$ cuyo coeficiente en la función objetivo es positiva, y lo incrementamos tanto las ecuaciones permitan, posteriormente, la variable $x_{e}$ pasa a ser una variable básica y otra variable tipo $x_{l}$ deja de ser básica, así que aplicaremos esa lógica a nuestro ejemplo, utilizaremos $x_{1}$ para empezar.\n",
    "4. Repetir el paso 3, hasta que la solución objetiva tenga todos sus coeficientes negativos, lo que significaría que la solución está optimizada"
   ]
  },
  {
   "cell_type": "markdown",
   "id": "b170d859",
   "metadata": {},
   "source": [
    "### Demostración de convergencia del algoritmo\n",
    "Empezamos con la forma canónica del problema lineal del cual partiremos\n",
    "\n",
    "\\begin{array}{l}\n",
    "\\text {(I): Minimizar z con: } \\\\\n",
    "x_{1} + \\quad + \\quad ··· \\quad \\quad+ a_{1,m+1} x_{m+1} + ··· + a_{1,n} x_{n} = b_{1}\\\\\n",
    "\\quad \\quad x_{2} + \\quad ···\\quad \\quad + a_{1,m+1} x_{m+1} + ··· + a_{2,n} x_{n} = b_{2}\\\\\n",
    "\\quad \\quad \\quad ·\\\\\n",
    "\\quad \\quad \\quad \\quad ·\\\\\n",
    "\\quad \\quad \\quad \\quad \\quad ·\\\\\n",
    "\\quad \\quad \\quad \\quad \\quad \\quad \\quad x_{m} + a_{m,m+1} x_{m+1} + ··· + a_{m,n} x_{n} = b_{m}\\\\\n",
    "\\quad \\quad \\quad \\quad \\quad \\quad \\quad \\quad + c_{m+1} x_{m+1} + ··· + c_{n} x_{n} = z_{0} + z\\\\\n",
    " x_{1}, \\quad x_{2}, \\quad··· x_{m}, \\quad x_{m+1}, \\quad ··· \\quad x_{n} \\geq 0\n",
    "\\end{array}\n",
    "\n",
    "si (I) es no degenerado, eso significa que se ha probado la convergencia, así que hay que considerar el caso degenerativo y construir una prueba en base aeso.\n",
    "\n",
    "Notación y terminología: \n",
    "* Se utilizará $b*_{i}$, $a*_{ij}$ para denotar coeficientes que han pasado por el paso del $\\textbf{pivote}$.\n",
    "* $\\textbf{Degenerado o degeneración}$: Este término se utiliza cuando una variable básica toma el valor de 0.\n",
    "\n",
    "##### Lema A\n",
    "(i) Si $b_{i}$ para toda i, entonces después de hacer la operación de pivote, todavía tendremos $b*_{i} = 0$ para todo i.$\\\\$\n",
    "(ii) Si al menos uno de las $b_{i} \\neq 0$, entonces al menos un $b*_{i} \\neq 0$\n",
    "\n",
    "##### Lema B\n",
    "Asuma que al menos uno de las $b_{i} \\neq 0$ y hay una secuencia de pasos de pivote que completa la solución. Entonces, si reemplazamos todas las $b_{i} = 0$, la misma secuencia puede ser usada para completar este nuevo problema.\n",
    "\n",
    "##### Teorema C (convergencia)\n",
    "Para el programa lineal en (I), existe una secuencia de pasos de pivote que completa la solución. Esto significa, que alcanzaremos ya sea el teorema O o el teorema U. Que establecen:\n",
    "\n",
    "Teorema O: Si todo $c*_{i} \\geq 0$ entonces $z_{min} = -z*_{0}$.\n",
    "\n",
    "Teorema U: Para algún $c*_{k} < 0 $, entonces tenemos $a*_{ik} \\leq 0$, para todo i, entonces $z_{min}$ no tiene límite inferior (no tiene mínimo).\n",
    "\n",
    "##### Probando el teorema C\n",
    "... por inducción en m: # de eciaciones con restricciones.\n",
    "\n",
    "$\\textbf{Caso base}$: m = 1, solo una ecuación.\n",
    "\n",
    "\\begin{array}{l}\n",
    "x_{1} + a_{1,m+1} x_{m+1} + ··· + a_{1,n} x_{n} = b_{1}\\\\\n",
    "\\quad \\quad c_{m+1} x_{m+1} + ··· + c_{n} x_{n} = z_{0} + z\\\\\n",
    "\\end{array}\n",
    "\n",
    "(a): Si $b_{1} \\neq 0:$ El lema A implica $b_{1} \\neq 0$, no degenerado.$\\\\$\n",
    "(b): Si $b*_{1} = 0$: El lema B dice, que se toman los mismos pasos que en (a) para resolverlo\n",
    "\n",
    "$\\textbf{Paso inductivo}$: Asumimos que la declaración se mantiene para el programa lineal con m-1 o menos ecuaciones. necesitamos probar la declaración para el programa lineal con m ecuaciones.\n",
    "\n",
    "$\\textbf(A)$. Asumir para m ecuaciones, que al menos un $b*_{i} \\neq 0$. $\\\\$\n",
    "(i). Aplicar simplex, hasta que ya podamos aplicar pivote para reducir z, es decir: Cuando el problema se haya resuelto. O, debido a degeneración (algunos $b_{i}$ son 0).\n",
    "\n",
    "(ii). Sea r = #$b_{i}$ con todos los $b_{i}$ que son 0. El lema A dice que r<m. \n",
    "Reordenar las ecuaciones y variables s.t. $b_{i} = 0$ para $ 1 \\leq i \\leq r$ y $b_{i} > 0$ para $i>r$.\n",
    "\n",
    "\\begin{array}{l}\n",
    "\\text {PL (II)} \\\\\n",
    "x_{1}  \\quad  \\quad \\quad \\quad+ a_{1,m+1} x_{m+1} + ··· + a_{1,n} x_{n} = 0 \\quad (\\ast) \\\\\n",
    "\\quad \\quad x_{r} \\quad \\quad \\quad + a_{r,m+1} x_{m+1} + ··· + a_{r,n} x_{n} = 0 \\quad (\\ast \\ast) \\\\\n",
    "\\quad \\quad \\quad \\quad x_{r+1} + a_{r+1,m+1} x_{m+1} + ··· + a_{r+1,n} x_{n} = b_{r+1} > 0\\\\\n",
    "\\quad \\quad \\quad \\quad \\quad x_{m} + a_{m,m+1} x_{m+1} + ··· + a_{m,n} x_{n} = b_{m} > 0\\\\\n",
    "\\quad \\quad \\quad \\quad \\quad \\quad c_{m+1} x_{m+1} + ··· + c_{n} x_{n} = z_{0} + z \\quad \\quad (O) \\\\\n",
    "\\end{array}\n",
    "\n",
    "(iii) considere ($*$)-($**$): en la forma canónica con BV ($x_{1},···,x_{r}$), y ($x_{r+1},···,x_{n}$) no aparece en ($*$)-($**$).\n",
    "\n",
    "Por supuesto de inducción, el Programa lineal ($*$)-($**$) + (O) puede ser resuelto por cierta cantidad de pasos pivote.\n",
    "\n",
    "(iv) Aplicamos los mismos pasos de pivotes a LP(II). El sistema resultado es canónico y $z_{0}$ no se cambia\n",
    "\n",
    "Ahora tenemos 2 posibles casos:\n",
    "* Todos los $c*_{j} \\geq 0$: aplicar el teorema O, se ha alcanzado el mínimo.\n",
    "* Para algún $c*_{j} < 0$ y $a*_{ik} \\leq 0$ para $1 \\leq i \\leq r$.\n",
    "\n",
    "(a) Tenemos que $a*_{ik}$ para $i>r$. aplicando el teorema U, y podemos concluir que el mínimo no tiene límite.\n",
    "\n",
    "(b) Tenemos que $a*_{ik}$ para algún $i>r$. Entonces, hacemos el paso pivote. entonces $b_{i}>0$ para i>r, reduciremos estrictamente $-z_{0}$ después del paso pivote.\n",
    "\n",
    "##### Uniendolo todo:\n",
    "Siguiendo los pasos (i), (ii), (iii) y (iv), tenemos una secuencia de pivote, que: o completa el problema, o reduce estrictamente $-z_{0}$.\n",
    "\n",
    "Repetir (i)-(iv) multiples veces. En una cantidad finita de veces, el método Simplex será completado.\n",
    "\n",
    "$\\textbf(B)$ finalmente, si todos los $b_{i}$ son 0, por el lema B, la misma secuencia que en el paso (A) completará el procedimiento."
   ]
  },
  {
   "cell_type": "markdown",
   "id": "a3a37932",
   "metadata": {},
   "source": [
    "### Eficiencia\n",
    "\n",
    "El algoritmo simplex es de eficiencia tipo exponencial, lo que significa que con los inputs adecuados, este algoritmo suele ser bastante rápido, incluso podría ser más rápido que algunos algoritmos de tipo polinomial"
   ]
  },
  {
   "cell_type": "markdown",
   "id": "1eb67eb4",
   "metadata": {},
   "source": [
    "### Ventajas\n",
    "* Fuciona para modelo de n variables\n",
    "* Mediante el método de simplex regresa la respuesta más óptima.\n",
    "* Ubica todos los puntos extremos\n",
    "* Es un método rápido\n",
    "\n",
    "### Desventajas\n",
    "* Ejecuta el procedimiento por pasos, por lo que una linea mala significa el resto del proceso malo (Desventaja de aplicacion)\n",
    "* No acepta funciones que tengan solución en el origen (al realizar el método de simplex).\n",
    "* Se complica el cálculo a la inversa o multiplicación de matrices.\n",
    "* Cae en ciclo si no se establece bien las restricciones, volviendo el programa ineficaz (simplex)."
   ]
  },
  {
   "cell_type": "markdown",
   "id": "6b7944c0",
   "metadata": {},
   "source": [
    "### Convertir \"linear program\" a \"slack form\"\n",
    "Para resolver eficientemente un programa lineal con el algoritmo simplex, vamos a expresarlo de manera que, algunas de las inecuaciones sean igualdades, más concretamente, lo convertiremos de una forma, en la cual las ecuaciones no negativas, sean las unicas inecuaciones."
   ]
  },
  {
   "cell_type": "markdown",
   "id": "2af31482",
   "metadata": {},
   "source": [
    "### Ejemplo teórico\n",
    "Considere el siguiente programa lineal en forma estándar\n",
    "\n",
    "\\begin{array}{l}\n",
    "\\text { maximizar: } \\\\\n",
    "\\quad3 x_{1}+x_{2}+2 x_{3}\\\\\n",
    "\\text { Condiciones : }\\\\\n",
    "\\quad x_{1}+x_{2}+3 x_{3} \\leq 30 \\\\\n",
    "\\quad 2 x_{1}+2 x_{2}+5 x_{3} \\leq 24 \\\\\n",
    "\\quad 4 x_{1}+x_{2}+2 x_{3} \\leq 36 \\\\\n",
    "\\quad x_{1}, x_{2}, x_{3} \\geq 0\n",
    "\\end{array}\n",
    "\n",
    "1. Para utilizar el algoritmo simplex, debemos convertir el programa lineal a forma floja (slack form)\n",
    "\n",
    "\\begin{array}{l}\n",
    "z= 3 x_{1}+x_{2}+2 x_{3} \\\\\n",
    "x_{4}=30-x_{1}-x_{2}-3 x_{3} \\\\\n",
    "x_{5}=24-2 x_{1}-2 x_{2}-5 x_{3} \\\\\n",
    "x_{6}=36-4 x_{1}-x_{2}-2 x_{3} \\\\\n",
    "x_{1}, x_{2}, x_{3} \\geq 0\n",
    "\\end{array}\n",
    "\n",
    "El valor de las variables $x_{1}$, $x_{2}$, y $x_{3}$ define valores para $x_{4}$, $x_{5}$ y $x_{6}$; por lo tanto, tenemos un número infinito de soluciones para este sistema de ecuaciones. Una solucion es factible si todas las variables ($x_{1}$, $x_{2}$, ... , $x_{6}$) no son negativas.\n",
    "\n",
    "2. Nos enfocamos en la solución básica: establecemos todas las variables (no básicas) en el lado derecho en 0 y luego calculamos los valores de las variables (básicas) en el lado izquierdo. Dejando los siguientes valores para estas ecuaciones:\n",
    "\n",
    "\\begin{array}{l}\n",
    "z= 0 \\\\\n",
    "x_{4}=30 \\\\\n",
    "x_{5}=24 \\\\\n",
    "x_{6}=36 \\\\\n",
    "\\end{array}\n",
    "\n",
    "observamos que los valores ($\\bar{x_{1}}, \\bar{x_{2}},...,\\bar{x_{6}}$) = (0,0,0,30,24,36) y tiene un valor objetivo de $z=(3·0)+(1·0)+(2·0)=0$\n",
    "\n",
    "Observe que la solución básica propone $\\bar{x_{i}}=b_{i}$ por cada $i \\in B$, por cada iteración del algoritmo simplex, se reescriben las ecuaciones y el objetivo de la función, es de poner variables distintas a la derecha y así, cambiamos la solución básica que es asociada con el problema reescrito (cabe destacar que esto no cambia en ninguna forma el problema original).\n",
    "\n",
    "Si una solución básica es factible, la llamaremos $\\textbf{solución básica factible}$, lo que es normalmente el caso, aunque habrán algunas ocasiones, en la que la solución básica no es factible\n",
    "\n",
    "3. Para cambiar la solución básica, seleccionamos una variable no básica $x_{e}$ cuyo coeficiente en la función objetivo es positiva, y lo incrementamos tanto las ecuaciones permitan, posteriormente, la variable $x_{e}$ pasa a ser una variable básica y otra variable tipo $x_{l}$ deja de ser básica, así que aplicaremos esa lógica a nuestro ejemplo, utilizaremos $x_{1}$ para empezar.\n",
    "\n",
    "A medida que incrementamos $x_{1}$ los valores de $x_{4}, x_{5}, x_{6}$ decrecen, no podemos permitir que estas variables se conviertan en negativas, por lo que progamos que valor máximo puede tomar $x_{1}$ en las siguientes ecuaciones (asumiendo que $x_{2} y x_{3}$ sean 0 por las reglas establecidas anteriormente):\n",
    "\n",
    "\\begin{array}{l}\n",
    "x_{4}=30-x_{1} \\\\\n",
    "x_{5}=24-2 x_{1} \\\\\n",
    "x_{6}=36-4 x_{1} \\\\\n",
    "\\end{array}\n",
    "\n",
    "Podemos observar, que en $x_{4}$ el valor de $x_{1}$ no puede ser mayor a 30, así como en $x_{5}$ y en $x_{6}$ el valor de $x_{1}$ no puede ser mayor a 12 y 9 respectivamente, por lo que nos decantamos por el mayor valor que no contradiga ninguna de las reglas anteriormente establecidas, el cuál sería 9, por lo que en la tercera ecuación, cambiamos los roles de $x_{1}$ y $x_{6}$ y resolvemos la ecuación para $x_{1}$, para obtener:\n",
    "\\begin{array}{l}\n",
    "x_{1}=9-\\frac{x_{2}}{4}-\\frac{x_{3}}{2}-\\frac{x_{6}}{4} \\\\\n",
    "\\end{array}\n",
    "\n",
    "Para reescribir las otras ecuaciones con $x_{6}$ a la derecha, simplemente sustituimos $x_{1}$ con la ecuación obtenida anteriormente y desarrollamos, lo que nos deja con las siguientes ecuaciones:\n",
    "\n",
    "\\begin{array}{l}\n",
    "z= 27+ \\frac{x_{2}}{4} + \\frac{x_{3}}{2} - \\frac{3 x_{6}}{4}\\\\\n",
    "x_{1}= 9 -  \\frac{x_{2}}{4} - \\frac{x_{3}}{2} - \\frac{x_{6}}{4} \\\\\n",
    "x_{4}= 21 - \\frac{3x_{2}}{4} - \\frac{5x_{3}}{2} + \\frac{x_{6}}{4} \\\\\n",
    "x_{5}= 6 -  \\frac{3x_{2}}{2} - 4x_{3} + \\frac{x_{6}}{2}\\\\\n",
    "\\end{array}\n",
    "\n",
    "A este proceso que acabamos de hacer le llamamos $\\textbf{pivote}$ a donde $x_{1}$ es la variable entrante y $x_{6}$ es la variable saliente\n",
    "\n",
    "4. Una vez hemos realizado nuestro primer $\\textbf{pivote}$, tenemos que utilizar las otras 2 variables restantes para pivotar, primero escogeremos $x_{3}$, luego $x_{2}$, por lo que aplicamos el paso 3.\n",
    "\n",
    "\\begin{array}{l}\n",
    "x_{1}= 9  - \\frac{x_{3}}{2} \\\\\n",
    "x_{4}= 21 - \\frac{5x_{3}}{2} \\\\\n",
    "x_{5}= 6 - 4x_{3}\\\\\n",
    "\\end{array}\n",
    "\n",
    "Resolver estas ecuaciones nos da un valor de 18 en $x_{1}$, 42/5 en $x_{4}$ y 3/2 en $x_{5}$. Por lo que sustituimos $x_{3}$ por $x_{5}$ en la tercera ecuación, lo que nos da:\n",
    "\n",
    "$x_{3} = \\frac{3}{2} - \\frac{3 x_{2}}{8} - \\frac{x_{5}}{4} + \\frac{x_{6}}{8}$\n",
    "\n",
    "Sustituimos en el sistema de ecuaciones:\n",
    "\n",
    "\\begin{array}{l}\n",
    "z= \\frac{111}{4} + \\frac{x_{2}}{16} - \\frac{x_{5}}{8} - \\frac{11x_{6}}{16}\\\\\n",
    "x_{1}= \\frac{33}{4} - \\frac{x_{2}}{16} + \\frac{x_{5}}{8} - \\frac{5x_{6}}{16}\\\\\n",
    "x_{3}= \\frac{3}{2} - \\frac{3x_{2}}{8} - \\frac{x_{5}}{4} + \\frac{x_{6}}{8}\\\\\n",
    "x_{4}= \\frac{69}{4} + \\frac{3x_{2}}{16} + \\frac{x_{5}}{8} - \\frac{x_{6}}{16}\\\\\n",
    "\\end{array}\n",
    "\n",
    "este sistema tiene la solución básica de (33/4,0,3/2,69/4,0,0), con un valor objetivo de 111/4, ahora, la única manera de aumentar el valor objetivo es de aumentar $x_{2}$. las 3 ecuaciones dan valores máximos de 132, 4 y $\\infty$ respectivamente (obtuvimos un valor de infinito, debido a que a medida aumenta $x_{2}$, el valor de $x_{4}$ también aumenta, lo que significa que no hay valor que cumpla la restricción de cuanto podemos aumentar $x_{2}$.) Aumentamos el valor de $x_{2}$ a 4. Sustituimos en las ecuaciones...\n",
    "\n",
    "\\begin{array}{l}\n",
    "z= 28 - \\frac{x_{3}}{6} - \\frac{x_{5}}{6} - \\frac{2 x_{6}}{3}\\\\\n",
    "x_{1}= 8 +  \\frac{x_{3}}{6} + \\frac{x_{5}}{6} - \\frac{x_{6}}{3} \\\\\n",
    "x_{2}= 4 - \\frac{8x_{3}}{3} - \\frac{2x_{5}}{3} + \\frac{x_{6}}{3} \\\\\n",
    "x_{4}= 18 -  \\frac{x_{3}}{2} + \\frac{x_{5}}{2}\\\\\n",
    "\\end{array}\n",
    "\n",
    "En este punto, todos los coeficientes de la función objetiva son negativos, esta situación solo ocurre cuando hemos reescrito el programa lineal de tal forma que la solución básica es la solución más optimo.\n",
    "\n",
    "5. Ya que sabemos que la función objetiva es produce una solución básica óptima, con la solución (8,4,0,18,0,0) con el valor objetivo de 28, que se obtiene haciendo el reemplazo en el programa lineal original, utilizando las variables que aparecían en este programa lineal original.\n",
    "\n",
    "$z = 3 x_{1}+x_{2}+2 x_{3}$\n",
    "\n",
    "$z = (3·8)+(1·4)+(2·0)$\n",
    "\n",
    "$z = 28$\n",
    "\n",
    "$x_{1} = 8$\n",
    "\n",
    "$x_{2} = 4$\n",
    "\n",
    "$x_{3} = 0$\n",
    "\n",
    "Lo cuál es nuestra respuesta final"
   ]
  },
  {
   "cell_type": "markdown",
   "id": "1701e7e2",
   "metadata": {},
   "source": [
    "## Experimentos numéricos hechos en Python del algoritmo simplex."
   ]
  },
  {
   "cell_type": "code",
   "execution_count": 18,
   "id": "36aef662",
   "metadata": {},
   "outputs": [],
   "source": [
    "def simplex(A, b, c):\n",
    "    try:\n",
    "        N, B, A, b, c, v = initializeSimplex(A, b, c)\n",
    "        delta = []\n",
    "        for i in range(len(B)):\n",
    "            delta.append(0)\n",
    "        for j in range(len(N)):\n",
    "            if c[j] > 0:\n",
    "                e = j\n",
    "                for i in range(len(B)):\n",
    "                    if A[i][e] > 0:\n",
    "                        delta[i] = b[i] / A[i][e]\n",
    "                    else:\n",
    "                        delta[i] = float('inf')\n",
    "                l = delta.index(min(delta))\n",
    "                if delta[l] == float('inf'):\n",
    "                    return print(\"unbounded\")\n",
    "                else:\n",
    "                    N, B, A, b, c, v = pivot(N, B, A, b, c, v, l, e)\n",
    "\n",
    "        for i in range(len(N)+len(B)):\n",
    "            if i + 1 in B:\n",
    "                index = B.index(i + 1)\n",
    "                print(\"x{0}: {1}\".format(i+1, b[index]))\n",
    "            else:\n",
    "                print(\"x{0}: {1}\".format(i+1, 0))\n",
    "        print(\"z: {0}\".format(v))\n",
    "    except ValueError:\n",
    "        print(\"El algoritmo no se puede ejecutar con esas condiciones\")\n",
    "    return\n",
    "\n",
    "\n",
    "def initializeSimplex(A, b, c):\n",
    "    k = b.index(min(b))\n",
    "    if b[k] >= 0:  # Is the initial basic solution feasible?\n",
    "        return [x+1 for x in range(len(c))], [len(c)+x+1 for x in range(len(b))], A, b, c, 0\n",
    "    else:\n",
    "        for i in range(len(b)):\n",
    "            A[i].append(0)\n",
    "        return \"infeasible\"\n",
    "\n",
    "\n",
    "def pivot(N, B, A, b, c, v, l, e):\n",
    "    pivotA = [[0 for i in range(len(c))] for j in range(len(b))]\n",
    "    pivotb = [0 for i in range(len(b))]\n",
    "    pivotc = [0 for i in range(len(c))]\n",
    "\n",
    "    # Compute the coefficients of the equation for new basic variable xe.\n",
    "\n",
    "    pivotb[l] = b[l] / A[l][e]\n",
    "\n",
    "    for j in range(len(N)):\n",
    "        if j != e:\n",
    "            pivotA[l][j] = A[l][j] / A[l][e]\n",
    "    pivotA[l][e] = 1 / A[l][e]\n",
    "\n",
    "    # Compute the coefficients of the remaining constraints.\n",
    "\n",
    "    for i in range(len(B)):\n",
    "        if i != l:\n",
    "            pivotb[i] = b[i] - A[i][e] * pivotb[l]\n",
    "            for j in range(len(N)):\n",
    "                if j != e:\n",
    "                    pivotA[i][j] = A[i][j] - A[i][e] * pivotA[l][j]\n",
    "            pivotA[i][e] = - A[i][e] * pivotA[l][e]\n",
    "\n",
    "    # Compute the objective function.\n",
    "\n",
    "    pivotv = v + c[e] * pivotb[l]\n",
    "\n",
    "    for j in range(len(N)):\n",
    "        if j != e:\n",
    "            pivotc[j] = c[j] - c[e] * pivotA[l][j]\n",
    "    pivotc[e] = -c[e] * pivotA[l][e]\n",
    "\n",
    "    # Compute new sets of basic and nonbasic variables.\n",
    "\n",
    "    pivotN = [0 for i in range(len(N))]\n",
    "    pivotB = [0 for i in range(len(B))]\n",
    "\n",
    "    a = N[e]\n",
    "    b = B[l]\n",
    "\n",
    "    for x in range(len(pivotN)):\n",
    "        if x == e:\n",
    "            pivotN[x] = b\n",
    "        else:\n",
    "            pivotN[x] = N[x]\n",
    "\n",
    "    for x in range(len(pivotB)):\n",
    "        if x == l:\n",
    "            pivotB[x] = a\n",
    "        else:\n",
    "            pivotB[x] = B[x]\n",
    "\n",
    "    return pivotN, pivotB, pivotA, pivotb, pivotc, pivotv"
   ]
  },
  {
   "cell_type": "code",
   "execution_count": 20,
   "id": "cb280429",
   "metadata": {
    "scrolled": true
   },
   "outputs": [
    {
     "name": "stdout",
     "output_type": "stream",
     "text": [
      "x1: 8.0\n",
      "x2: 4.0\n",
      "x3: 0\n",
      "x4: 18.0\n",
      "x5: 0\n",
      "x6: 0\n",
      "z: 28.0\n"
     ]
    }
   ],
   "source": [
    "A = [[1, 1, 3],\n",
    "     [2, 2, 5],\n",
    "     [4, 1, 2]]\n",
    "b = [30, 24, 36]\n",
    "c = [3, 1, 2]\n",
    "simplex(A, b, c)"
   ]
  },
  {
   "attachments": {
    "image.png": {
     "image/png": "[encoded data removed]"
    }
   },
   "cell_type": "markdown",
   "id": "2f858337",
   "metadata": {},
   "source": [
    "![image.png](attachment:image.png)"
   ]
  },
  {
   "attachments": {
    "image-2.png": {
     "image/png": "[encoded data removed]"
    }
   },
   "cell_type": "markdown",
   "id": "343bfee0",
   "metadata": {},
   "source": [
    "![image-2.png](attachment:image-2.png)"
   ]
  },
  {
   "cell_type": "code",
   "execution_count": 19,
   "id": "08e7dd91",
   "metadata": {},
   "outputs": [
    {
     "name": "stdout",
     "output_type": "stream",
     "text": [
      "x1: 2.5\n",
      "x2: 3.0\n",
      "x3: 3.5\n",
      "x4: 0\n",
      "x5: 0\n",
      "z: 5.5\n"
     ]
    }
   ],
   "source": [
    "A = [[-1, 1],\n",
    "     [2, 5],\n",
    "     [2,-1]]\n",
    "b = [4,20,2]\n",
    "c = [1,1]\n",
    "simplex(A, b, c)"
   ]
  },
  {
   "attachments": {
    "image.png": {
     "image/png": "[encoded data removed]"
    }
   },
   "cell_type": "markdown",
   "id": "7fe40e84",
   "metadata": {},
   "source": [
    "![image.png](attachment:image.png)"
   ]
  },
  {
   "attachments": {
    "image.png": {
     "image/png": "[encoded data removed]"
    }
   },
   "cell_type": "markdown",
   "id": "5066e02a",
   "metadata": {},
   "source": [
    "![image.png](attachment:image.png)"
   ]
  },
  {
   "cell_type": "code",
   "execution_count": 21,
   "id": "e70f612a",
   "metadata": {},
   "outputs": [
    {
     "name": "stdout",
     "output_type": "stream",
     "text": [
      "x1: 2.5\n",
      "x2: 0.5\n",
      "x3: 0\n",
      "x4: 0\n",
      "x5: 1.5\n",
      "z: 6.0\n"
     ]
    }
   ],
   "source": [
    "A = [[1, -1],\n",
    "     [2, 2],\n",
    "     [1, 2]]\n",
    "b = [2,6,5]\n",
    "c = [2,2]\n",
    "simplex(A, b, c)"
   ]
  },
  {
   "cell_type": "markdown",
   "id": "1b19f4df",
   "metadata": {},
   "source": [
    "## Conclusión\n",
    "Para finalizar, pudimos observar que el algoritmo puede ser algo complejo de comprender, tanto la interpretación del enunciado, como la utilización del algoritmo como tal, sin embargo, es uno de los algoritmos más utilizados en las áreas de la matemática avanzada y la ciencia para minimizar y máximizar, debido a su gran eficiencia y resultados certeros, por lo cual es recomendable saber como funciona, ya que nos podría venir de utilidad en un futuro. Como lo podría ser en el área de economía, por si en algún dado caso, se desea invertir lo mínimo posible para alcanzar una meta o prblemas de la misma índole."
   ]
  },
  {
   "cell_type": "markdown",
   "id": "0a020fd2",
   "metadata": {},
   "source": [
    "# Bibliografía\n",
    "\n",
    "* Cormen, T., Leiserson, C., Rivest, Ronald & Stein, C. Secciones 29.1, 29.2 y 29.3 en Introduction to Algorithms, tercera edición (pp. 843-879). MIT Press.\n",
    "\n",
    "* Shen, W. [wenshepsu] 11 may 2020. V3-29. Linear Programming. Convergence proof for Simplex method. Recuperado de: https://www.youtube.com/watch?v=IFCsUxW9aUs&t\n",
    "\n",
    "* Shen, W. [wenshepsu] 11 may 2020: V3-30. Linear Programming. Convergence proof for Simplex method, Induction step."
   ]
  }
 ],
 "metadata": {
  "kernelspec": {
   "display_name": "Python 3",
   "language": "python",
   "name": "python3"
  },
  "language_info": {
   "codemirror_mode": {
    "name": "ipython",
    "version": 3
   },
   "file_extension": ".py",
   "mimetype": "text/x-python",
   "name": "python",
   "nbconvert_exporter": "python",
   "pygments_lexer": "ipython3",
   "version": "3.9.6"
  }
 },
 "nbformat": 4,
 "nbformat_minor": 5
}
